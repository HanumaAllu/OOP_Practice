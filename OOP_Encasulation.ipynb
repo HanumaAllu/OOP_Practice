{
  "nbformat": 4,
  "nbformat_minor": 0,
  "metadata": {
    "colab": {
      "name": "OOP_Encasulation.ipynb",
      "provenance": []
    },
    "kernelspec": {
      "name": "python3",
      "display_name": "Python 3"
    },
    "language_info": {
      "name": "python"
    }
  },
  "cells": [
    {
      "cell_type": "code",
      "metadata": {
        "colab": {
          "base_uri": "https://localhost:8080/",
          "height": 0
        },
        "id": "4Dt00KcZKFke",
        "outputId": "8754440d-1137-4df7-aa65-74076024ad3e"
      },
      "source": [
        "class Car:    \n",
        "    def __init__(self):\n",
        "        self.__maxspeed = 400\n",
        "        self.__name = \"Supercar\"    \n",
        "    def drive(self):\n",
        "        print('driving. maxspeed ' + str(self.__maxspeed))\n",
        "    def setmax(self,max):\n",
        "        self.__maxspeed = max\n",
        "    def getmax(self):\n",
        "        return self.__maxspeed\n",
        "bluecar = Car()\n",
        "bluecar.drive()\n",
        "mxspeed =20\n",
        "bluecar.__maxspeed = 20        # will not change variable because its private\n",
        "print(bluecar._Car__maxspeed)\n",
        "bluecar.setmax(500)            \n",
        "bluecar.drive()"
      ],
      "execution_count": 2,
      "outputs": [
        {
          "output_type": "stream",
          "name": "stdout",
          "text": [
            "driving. maxspeed 400\n",
            "400\n",
            "driving. maxspeed 500\n"
          ]
        }
      ]
    },
    {
      "cell_type": "code",
      "metadata": {
        "colab": {
          "base_uri": "https://localhost:8080/"
        },
        "id": "v20UFg0YLlaI",
        "outputId": "5c2ee0d6-225b-421a-c35a-9536fdd78ba6"
      },
      "source": [
        "# Creating a Base class\n",
        "class Base:\n",
        "    def __init__(self):\n",
        "        self.a = \"Python Course\"\n",
        "        self.__c = \"IIIT Dharwad\"\n",
        "    def getc(self):\n",
        "      return self.__c\n",
        "# Creating a derived class\n",
        "class Derived(Base):\n",
        "    def __init__(self):   \n",
        "        # Calling constructor of Base class\n",
        "        Base.__init__(self)\n",
        "        print(\"Calling private member of base class: \")\n",
        "        #print(self.__C)        # in this way we cannot access \n",
        "        print(Base.getc(self))  # in this way we can access\n",
        "# Driver code\n",
        "obj1 = Derived()\n",
        "print(obj1.a)\n",
        "print(obj1.getc())"
      ],
      "execution_count": 3,
      "outputs": [
        {
          "output_type": "stream",
          "name": "stdout",
          "text": [
            "Calling private member of base class: \n",
            "IIIT Dharwad\n",
            "Python Course\n",
            "IIIT Dharwad\n"
          ]
        }
      ]
    },
    {
      "cell_type": "code",
      "metadata": {
        "colab": {
          "base_uri": "https://localhost:8080/"
        },
        "id": "T6rLWP-AL1PA",
        "outputId": "8952c2f4-9c5d-4f93-984e-0e949354afca"
      },
      "source": [
        "class Country:  \n",
        "      \n",
        "    # init method or constructor   \n",
        "    def __init__(self,name):  \n",
        "        self.name = name \n",
        "      \n",
        "    # Sample Method   \n",
        "    def say_name(self):  \n",
        "        print('Hello, Country name is', self.name)  \n",
        "  \n",
        "# Creating different objects     \n",
        "c1 = Country('Bharat') \n",
        "c2 = Country('Akhanda Bharat')\n",
        "c3 = Country('Russia')\n",
        "  \n",
        "c1.say_name()  \n",
        "c2.say_name()\n",
        "c3.say_name()"
      ],
      "execution_count": 4,
      "outputs": [
        {
          "output_type": "stream",
          "name": "stdout",
          "text": [
            "Hello, Country name is Bharat\n",
            "Hello, Country name is Akhanda Bharat\n",
            "Hello, Country name is Russia\n"
          ]
        }
      ]
    },
    {
      "cell_type": "code",
      "metadata": {
        "colab": {
          "base_uri": "https://localhost:8080/"
        },
        "id": "JvOe-n9yMQ5L",
        "outputId": "99a2eb20-d35e-4496-b338-426349c41ef6"
      },
      "source": [
        "class student:\n",
        "  count=0\n",
        "  def __init__(self,num) :\n",
        "    student.count=student.count+num\n",
        "\n",
        "s1=student(1)\n",
        "s2=student(3)\n",
        "s3=student(9)\n",
        "\n",
        "print(\"Number of students in OOP class :\", student.count)\n",
        "print(\"Number of students in OOP class:\", s2.count)\n",
        "print(\"Number of students in OOP class:\", s1.count)"
      ],
      "execution_count": 5,
      "outputs": [
        {
          "output_type": "stream",
          "name": "stdout",
          "text": [
            "Number of students in OOP class : 13\n",
            "Number of students in OOP class: 13\n",
            "Number of students in OOP class: 13\n"
          ]
        }
      ]
    },
    {
      "cell_type": "code",
      "metadata": {
        "colab": {
          "base_uri": "https://localhost:8080/"
        },
        "id": "w0WZHaA1MfkL",
        "outputId": "618eb461-9dce-4a36-afe3-7533ef52fb0d"
      },
      "source": [
        "# Example non parametrized constructors\n",
        "class student:\n",
        "  count=0\n",
        "  def __init__(self) :\n",
        "    print(\"This is non parametrized constructor with no arguments or parameters\") \n",
        "\n",
        "  def shownum(self,num):\n",
        "       print(\"number of students in OOP class :\", num * num)\n",
        "       return num*num\n",
        "s1=student()\n",
        "s2=student()\n",
        "s3=student()\n",
        "\n",
        "result1= s1.shownum(2)\n",
        "result2= s2.shownum(1)\n",
        "\n",
        "print(\"Number of students in OOP class :\", result1,result2)"
      ],
      "execution_count": 7,
      "outputs": [
        {
          "output_type": "stream",
          "name": "stdout",
          "text": [
            "This is non parametrized constructor with no arguments or parameters\n",
            "This is non parametrized constructor with no arguments or parameters\n",
            "This is non parametrized constructor with no arguments or parameters\n",
            "number of students in OOP class : 4\n",
            "number of students in OOP class : 1\n",
            "Number of students in OOP class : 4 1\n"
          ]
        }
      ]
    },
    {
      "cell_type": "code",
      "metadata": {
        "colab": {
          "base_uri": "https://localhost:8080/"
        },
        "id": "xiPw9DrbM9Jg",
        "outputId": "1c2b966c-0a1f-4e39-cd00-0afbd13aa8e1"
      },
      "source": [
        "# Example parametrized constructors\n",
        "class student:\n",
        "  count=0\n",
        "  def __init__(self,stname,stage) :\n",
        "    self.name = stname\n",
        "    self.age = stage\n",
        "\n",
        "  def display(self,styear):\n",
        "       print(\"Student joined in IIIT Dharwad   :\", self.name, self.age, styear)\n",
        "       if styear <= 2020 :\n",
        "         print (\"Student has successfully completed the course\")\n",
        "       return \n",
        "s1=student(\"Hanuma\",19)\n",
        "s2=student(\"Srinu\",18)\n",
        "s3=student(\"Ashok\",19)\n",
        "\n",
        "s1.display(2020)\n",
        "s2.display(2019)\n",
        "s3.display(2020)"
      ],
      "execution_count": 12,
      "outputs": [
        {
          "output_type": "stream",
          "name": "stdout",
          "text": [
            "Student joined in IIIT Dharwad   : Hanuma 19 2020\n",
            "Student has successfully completed the course\n",
            "Student joined in IIIT Dharwad   : Srinu 18 2019\n",
            "Student has successfully completed the course\n",
            "Student joined in IIIT Dharwad   : Ashok 19 2020\n",
            "Student has successfully completed the course\n"
          ]
        }
      ]
    },
    {
      "cell_type": "code",
      "metadata": {
        "colab": {
          "base_uri": "https://localhost:8080/"
        },
        "id": "D7HcQnBcN7qT",
        "outputId": "627fc5cc-8b67-44b9-cd49-dce13bc780c2"
      },
      "source": [
        "#Python Default Constructor\n",
        "# Example parametrized constructors\n",
        "class student:\n",
        "    name = \"Shri Ram\"\n",
        "    age =  21\n",
        "\n",
        "    def display(self,styear):\n",
        "       print(\"Student joined i# IIIT Dharwad   :\", self.name, self.age, styear)\n",
        "       if styear <= 2021 :\n",
        "         print (\"Student has succesfully completed the course\")\n",
        "       return \n",
        "s1=student()\n",
        "s2=student()\n",
        "s3=student()\n",
        "\n",
        "s1.display(2020)\n",
        "s2.display(2019)"
      ],
      "execution_count": 16,
      "outputs": [
        {
          "output_type": "stream",
          "name": "stdout",
          "text": [
            "Student joined i# IIIT Dharwad   : Shri Ram 21 2020\n",
            "Student has succesfully completed the course\n",
            "Student joined i# IIIT Dharwad   : Shri Ram 21 2019\n",
            "Student has succesfully completed the course\n"
          ]
        }
      ]
    }
  ]
}