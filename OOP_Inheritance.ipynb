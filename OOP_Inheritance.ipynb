{
  "nbformat": 4,
  "nbformat_minor": 0,
  "metadata": {
    "colab": {
      "name": "OOP_Inheritance.ipynb",
      "provenance": []
    },
    "kernelspec": {
      "name": "python3",
      "display_name": "Python 3"
    },
    "language_info": {
      "name": "python"
    }
  },
  "cells": [
    {
      "cell_type": "code",
      "metadata": {
        "colab": {
          "base_uri": "https://localhost:8080/"
        },
        "id": "ih3kMRXd9ME2",
        "outputId": "9f66eba8-138a-4242-8aa2-9412f76dd655"
      },
      "source": [
        "# Problem 1: Create a Player class\n",
        "class Player:\n",
        "    MAX_POSITION = 21    # Class attribute   \n",
        "    def __init__(self):\n",
        "      self.position = 0 \n",
        "print(Player.MAX_POSITION)    # instance accessing Class attribute\n",
        "\n",
        "p = Player()\n",
        "print(p.position) #prints 0 as output\n",
        "print(p.MAX_POSITION)  # what is the oputput?"
      ],
      "execution_count": 2,
      "outputs": [
        {
          "output_type": "stream",
          "name": "stdout",
          "text": [
            "21\n",
            "0\n",
            "21\n"
          ]
        }
      ]
    },
    {
      "cell_type": "code",
      "metadata": {
        "id": "EAunhIQtC1OM"
      },
      "source": [
        "## Problem2 :\n",
        "class Player:\n",
        "    MAX_POSITION = 20     # Class attribute   \n",
        "    def __init__(self):\n",
        "      self.position = 0\n",
        "class Racer(Player):\n",
        "    MAX_SPEED = 80      # adding attributes to Child Class\n",
        "class Racer2(Player):\n",
        "    MAX_SPEED2 = 100\n",
        "\n",
        "p = Player()\n",
        "r = Racer()\n",
        "r2 = Racer2()\n",
        "# What is the output?\n",
        "#print(\"p.MAX_SPEED = \", p.MAX_SPEED)  #cannot access MAX_SPEED because it is not an attribute of parent class\n",
        "print(\"r.MAX_SPEED = \", r.MAX_SPEED)\n",
        "print(\"p.MAX_POSITION = \", p.MAX_POSITION)\n",
        "print(\"r.MAX_POSITION = \", r.MAX_POSITION)\n",
        "print(\"p.position = \", p.position)\n",
        "print(\"r.position = \",r.position)\n",
        "#print(\"r2.MAX_SPEED = \",r2.MAX_SPEED) can't access beacuse racer2 is not inheritance of racer\n",
        "print(\"r2.MAX_SPEED2 = \",r2.MAX_SPEED2)"
      ],
      "execution_count": null,
      "outputs": []
    },
    {
      "cell_type": "code",
      "metadata": {
        "colab": {
          "base_uri": "https://localhost:8080/"
        },
        "id": "idEG3tCSDacE",
        "outputId": "faeb72d0-1ee4-4d3f-db6b-4e64dd90f236"
      },
      "source": [
        "# Problem 3: making changes in Child class methods\n",
        "class Employee:\n",
        "    def __init__(self, name, salary=75000):\n",
        "        self.name = name\n",
        "        self.salary = salary\n",
        "    def give_raise(self, amount):\n",
        "        self.salary += amount        \n",
        "class Manager(Employee):\n",
        "    def display(self):\n",
        "        print(\"Manager \", self.name)\n",
        "    def __init__(self, name, salary=90000, project=None):\n",
        "        Employee.__init__(self, name, salary)\n",
        "        self.project = project\n",
        "    def give_raise(self, amount, bonus=1.5): # Add a give_raise method\n",
        "        new_amount = amount * bonus\n",
        "        Employee.give_raise(self, new_amount)  # what is the diff?\n",
        "mngr = Manager(\"Hanuma\", 60000)\n",
        "mngr.give_raise(5000)\n",
        "print(mngr.salary)   # what is the output?\n",
        "mngr.give_raise(5000, bonus=1.5)\n",
        "print(mngr.salary)"
      ],
      "execution_count": 4,
      "outputs": [
        {
          "output_type": "stream",
          "name": "stdout",
          "text": [
            "67500.0\n",
            "75000.0\n"
          ]
        }
      ]
    },
    {
      "cell_type": "code",
      "metadata": {
        "id": "ySWXl6sqFhMH"
      },
      "source": [
        "#Problem 4: Alternative Constructor \n",
        "class MyDate:\n",
        "    def __init__(self, year, month, day):     # Constructor\n",
        "      self.year, self.month, self.day = year, month, day    \n",
        "    # Define a class method from_str\n",
        "    @classmethod\n",
        "    def from_str(cls, datestr):\n",
        "    # Split the string at \"-\" and  convert each part to integer\n",
        "        parts = datestr.split(\"-\")\n",
        "        year, month, day = int(parts[0]), int(parts[1]), int(parts[2])\n",
        "        return cls(year, month, day)       # Return the class instance  \n",
        "bd = MyDate.from_str('2001-06-21')   \n",
        "print(bd.year)\n",
        "print(bd.month)\n",
        "print(bd.day)"
      ],
      "execution_count": null,
      "outputs": []
    },
    {
      "cell_type": "code",
      "metadata": {
        "colab": {
          "base_uri": "https://localhost:8080/"
        },
        "id": "nGBpjNu3Dhd-",
        "outputId": "25579d20-514a-4903-e370-443d4ea997f3"
      },
      "source": [
        "## Problem 5 : Define a subclass \n",
        "class Employee:\n",
        "  MIN_SALARY = 50000    \n",
        "  def __init__(self, name, salary):\n",
        "      self.name = name\n",
        "      self.salary = salary\n",
        "      if salary >= Employee.MIN_SALARY:\n",
        "        self.salary = salary\n",
        "        print(self.salary)\n",
        "      else:\n",
        "        self.salary = Employee.MIN_SALARY\n",
        "        print(self.salary)\n",
        "  def give_raise(self, amount):\n",
        "      self.salary += amount  \n",
        "      print(self.salary)      \n",
        "\n",
        "class Manager(Employee):\n",
        "  pass\n",
        " \n",
        "mng = Manager(\"RAVITEJA\",60000)\n",
        "mng.give_raise(5000)\n",
        "# Print mng's name\n",
        "print(mng.name)"
      ],
      "execution_count": 5,
      "outputs": [
        {
          "output_type": "stream",
          "name": "stdout",
          "text": [
            "60000\n",
            "65000\n",
            "RAVITEJA\n"
          ]
        }
      ]
    },
    {
      "cell_type": "code",
      "metadata": {
        "colab": {
          "base_uri": "https://localhost:8080/"
        },
        "id": "wBGmfGepGZYs",
        "outputId": "5f2d35d8-8487-4a31-96a7-4998fe5df6f5"
      },
      "source": [
        "class Employee:\n",
        "    def __init__(self, name, salary=80000):\n",
        "        self.name = name\n",
        "        self.salary = salary\n",
        "    def give_raise(self, amount):\n",
        "        self.salary += amount      \n",
        "        print(self.salary)  \n",
        "class Manager(Employee):\n",
        "  # Add a constructor \n",
        "    def __init__(self, name, salary, project=None):\n",
        "        # Call the parent's constructor   \n",
        "        Employee.__init__(self, name, salary)\n",
        "        # Assign project attribute\n",
        "        self.project = project\n",
        "    def make_cut(self,amount):\n",
        "        self.salary -= amount\n",
        "        print(self.salary)\n",
        "    def display(self):\n",
        "        print(\"Manager->\",self.name)\n",
        "\n",
        "exam = Manager(\"Hanuma\",120000)\n",
        "exam.make_cut(4000)\n",
        "exam.give_raise(5000)\n",
        "exam.display()"
      ],
      "execution_count": 6,
      "outputs": [
        {
          "output_type": "stream",
          "name": "stdout",
          "text": [
            "116000\n",
            "121000\n",
            "Manager-> Hanuma\n"
          ]
        }
      ]
    },
    {
      "cell_type": "code",
      "metadata": {
        "colab": {
          "base_uri": "https://localhost:8080/"
        },
        "id": "Km3ghISiGknL",
        "outputId": "e22183e1-e1d1-44c0-dc83-c3d6c0fc2e75"
      },
      "source": [
        "class Employee:\n",
        "    def __init__(self, name, salary=30000):\n",
        "        self.name = name\n",
        "        self.salary = salary\n",
        "    def give_raise(self, amount):\n",
        "        self.salary += amount       \n",
        "class Manager(Employee):\n",
        "  # Adding a constructor \n",
        "    def __init__(self, name, salary, project):\n",
        "        Employee.__init__(self, name, salary)  \n",
        "        self.project = project      \n",
        "    def display(self):\n",
        "        print(\"Manager_Name: \", self.name)\n",
        "        print(\"Manager_salary: \", self.salary)\n",
        "        print(\"Projects_Done: \", self.project)\n",
        "\n",
        "Manager=Manager(\"Hanuma\", 50000, None)     \n",
        "Manager.display()   "
      ],
      "execution_count": 12,
      "outputs": [
        {
          "output_type": "stream",
          "name": "stdout",
          "text": [
            "Manager_Name:  Hanuma\n",
            "Manager_salary:  50000\n",
            "Projects_Done:  None\n"
          ]
        }
      ]
    }
  ]
}